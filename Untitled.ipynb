{
 "cells": [
  {
   "cell_type": "code",
   "execution_count": 1,
   "metadata": {},
   "outputs": [],
   "source": [
    "import numpy as np\n",
    "import pandas as pd\n",
    "import os\n",
    "\n",
    "import matplotlib.pyplot as plt\n",
    "import seaborn as sns\n",
    "\n",
    "plt.style.use('fivethirtyeight')"
   ]
  },
  {
   "cell_type": "code",
   "execution_count": 2,
   "metadata": {},
   "outputs": [
    {
     "name": "stdout",
     "output_type": "stream",
     "text": [
      "Shape of train dataset = (10000, 11)\n"
     ]
    },
    {
     "data": {
      "text/html": [
       "<div>\n",
       "<style scoped>\n",
       "    .dataframe tbody tr th:only-of-type {\n",
       "        vertical-align: middle;\n",
       "    }\n",
       "\n",
       "    .dataframe tbody tr th {\n",
       "        vertical-align: top;\n",
       "    }\n",
       "\n",
       "    .dataframe thead th {\n",
       "        text-align: right;\n",
       "    }\n",
       "</style>\n",
       "<table border=\"1\" class=\"dataframe\">\n",
       "  <thead>\n",
       "    <tr style=\"text-align: right;\">\n",
       "      <th></th>\n",
       "      <th>Severity</th>\n",
       "      <th>Safety_Score</th>\n",
       "      <th>Days_Since_Inspection</th>\n",
       "      <th>Total_Safety_Complaints</th>\n",
       "      <th>Control_Metric</th>\n",
       "      <th>Turbulence_In_gforces</th>\n",
       "      <th>Cabin_Temperature</th>\n",
       "      <th>Accident_Type_Code</th>\n",
       "      <th>Max_Elevation</th>\n",
       "      <th>Violations</th>\n",
       "      <th>Adverse_Weather_Metric</th>\n",
       "    </tr>\n",
       "    <tr>\n",
       "      <th>Accident_ID</th>\n",
       "      <th></th>\n",
       "      <th></th>\n",
       "      <th></th>\n",
       "      <th></th>\n",
       "      <th></th>\n",
       "      <th></th>\n",
       "      <th></th>\n",
       "      <th></th>\n",
       "      <th></th>\n",
       "      <th></th>\n",
       "      <th></th>\n",
       "    </tr>\n",
       "  </thead>\n",
       "  <tbody>\n",
       "    <tr>\n",
       "      <th>7570</th>\n",
       "      <td>Minor_Damage_And_Injuries</td>\n",
       "      <td>49.223744</td>\n",
       "      <td>14</td>\n",
       "      <td>22</td>\n",
       "      <td>71.285324</td>\n",
       "      <td>0.272118</td>\n",
       "      <td>78.04</td>\n",
       "      <td>2</td>\n",
       "      <td>31335.476824</td>\n",
       "      <td>3</td>\n",
       "      <td>0.424352</td>\n",
       "    </tr>\n",
       "    <tr>\n",
       "      <th>12128</th>\n",
       "      <td>Minor_Damage_And_Injuries</td>\n",
       "      <td>62.465753</td>\n",
       "      <td>10</td>\n",
       "      <td>27</td>\n",
       "      <td>72.288058</td>\n",
       "      <td>0.423939</td>\n",
       "      <td>84.54</td>\n",
       "      <td>2</td>\n",
       "      <td>26024.711057</td>\n",
       "      <td>2</td>\n",
       "      <td>0.352350</td>\n",
       "    </tr>\n",
       "    <tr>\n",
       "      <th>2181</th>\n",
       "      <td>Significant_Damage_And_Fatalities</td>\n",
       "      <td>63.059361</td>\n",
       "      <td>13</td>\n",
       "      <td>16</td>\n",
       "      <td>66.362808</td>\n",
       "      <td>0.322604</td>\n",
       "      <td>78.86</td>\n",
       "      <td>7</td>\n",
       "      <td>39269.053927</td>\n",
       "      <td>3</td>\n",
       "      <td>0.003364</td>\n",
       "    </tr>\n",
       "    <tr>\n",
       "      <th>5946</th>\n",
       "      <td>Significant_Damage_And_Serious_Injuries</td>\n",
       "      <td>48.082192</td>\n",
       "      <td>11</td>\n",
       "      <td>9</td>\n",
       "      <td>74.703737</td>\n",
       "      <td>0.337029</td>\n",
       "      <td>81.79</td>\n",
       "      <td>3</td>\n",
       "      <td>42771.499200</td>\n",
       "      <td>1</td>\n",
       "      <td>0.211728</td>\n",
       "    </tr>\n",
       "    <tr>\n",
       "      <th>9054</th>\n",
       "      <td>Significant_Damage_And_Fatalities</td>\n",
       "      <td>26.484018</td>\n",
       "      <td>13</td>\n",
       "      <td>25</td>\n",
       "      <td>47.948952</td>\n",
       "      <td>0.541140</td>\n",
       "      <td>77.16</td>\n",
       "      <td>3</td>\n",
       "      <td>35509.228515</td>\n",
       "      <td>2</td>\n",
       "      <td>0.176883</td>\n",
       "    </tr>\n",
       "  </tbody>\n",
       "</table>\n",
       "</div>"
      ],
      "text/plain": [
       "                                            Severity  Safety_Score  \\\n",
       "Accident_ID                                                          \n",
       "7570                       Minor_Damage_And_Injuries     49.223744   \n",
       "12128                      Minor_Damage_And_Injuries     62.465753   \n",
       "2181               Significant_Damage_And_Fatalities     63.059361   \n",
       "5946         Significant_Damage_And_Serious_Injuries     48.082192   \n",
       "9054               Significant_Damage_And_Fatalities     26.484018   \n",
       "\n",
       "             Days_Since_Inspection  Total_Safety_Complaints  Control_Metric  \\\n",
       "Accident_ID                                                                   \n",
       "7570                            14                       22       71.285324   \n",
       "12128                           10                       27       72.288058   \n",
       "2181                            13                       16       66.362808   \n",
       "5946                            11                        9       74.703737   \n",
       "9054                            13                       25       47.948952   \n",
       "\n",
       "             Turbulence_In_gforces  Cabin_Temperature  Accident_Type_Code  \\\n",
       "Accident_ID                                                                 \n",
       "7570                      0.272118              78.04                   2   \n",
       "12128                     0.423939              84.54                   2   \n",
       "2181                      0.322604              78.86                   7   \n",
       "5946                      0.337029              81.79                   3   \n",
       "9054                      0.541140              77.16                   3   \n",
       "\n",
       "             Max_Elevation  Violations  Adverse_Weather_Metric  \n",
       "Accident_ID                                                     \n",
       "7570          31335.476824           3                0.424352  \n",
       "12128         26024.711057           2                0.352350  \n",
       "2181          39269.053927           3                0.003364  \n",
       "5946          42771.499200           1                0.211728  \n",
       "9054          35509.228515           2                0.176883  "
      ]
     },
     "execution_count": 2,
     "metadata": {},
     "output_type": "execute_result"
    }
   ],
   "source": [
    "train_df = pd.read_csv('train.csv', index_col=\"Accident_ID\")\n",
    "print('Shape of train dataset = {}'.format(train_df.shape))\n",
    "train_df.head()"
   ]
  },
  {
   "cell_type": "code",
   "execution_count": 3,
   "metadata": {},
   "outputs": [
    {
     "name": "stdout",
     "output_type": "stream",
     "text": [
      "Shape of test dataset = (2500, 10)\n"
     ]
    },
    {
     "data": {
      "text/html": [
       "<div>\n",
       "<style scoped>\n",
       "    .dataframe tbody tr th:only-of-type {\n",
       "        vertical-align: middle;\n",
       "    }\n",
       "\n",
       "    .dataframe tbody tr th {\n",
       "        vertical-align: top;\n",
       "    }\n",
       "\n",
       "    .dataframe thead th {\n",
       "        text-align: right;\n",
       "    }\n",
       "</style>\n",
       "<table border=\"1\" class=\"dataframe\">\n",
       "  <thead>\n",
       "    <tr style=\"text-align: right;\">\n",
       "      <th></th>\n",
       "      <th>Safety_Score</th>\n",
       "      <th>Days_Since_Inspection</th>\n",
       "      <th>Total_Safety_Complaints</th>\n",
       "      <th>Control_Metric</th>\n",
       "      <th>Turbulence_In_gforces</th>\n",
       "      <th>Cabin_Temperature</th>\n",
       "      <th>Accident_Type_Code</th>\n",
       "      <th>Max_Elevation</th>\n",
       "      <th>Violations</th>\n",
       "      <th>Adverse_Weather_Metric</th>\n",
       "    </tr>\n",
       "    <tr>\n",
       "      <th>Accident_ID</th>\n",
       "      <th></th>\n",
       "      <th></th>\n",
       "      <th></th>\n",
       "      <th></th>\n",
       "      <th></th>\n",
       "      <th></th>\n",
       "      <th></th>\n",
       "      <th></th>\n",
       "      <th></th>\n",
       "      <th></th>\n",
       "    </tr>\n",
       "  </thead>\n",
       "  <tbody>\n",
       "    <tr>\n",
       "      <th>1</th>\n",
       "      <td>19.497717</td>\n",
       "      <td>16</td>\n",
       "      <td>6</td>\n",
       "      <td>72.151322</td>\n",
       "      <td>0.388959</td>\n",
       "      <td>78.32</td>\n",
       "      <td>4</td>\n",
       "      <td>37949.724386</td>\n",
       "      <td>2</td>\n",
       "      <td>0.069692</td>\n",
       "    </tr>\n",
       "    <tr>\n",
       "      <th>10</th>\n",
       "      <td>58.173516</td>\n",
       "      <td>15</td>\n",
       "      <td>3</td>\n",
       "      <td>64.585232</td>\n",
       "      <td>0.250841</td>\n",
       "      <td>78.60</td>\n",
       "      <td>7</td>\n",
       "      <td>30194.805567</td>\n",
       "      <td>2</td>\n",
       "      <td>0.002777</td>\n",
       "    </tr>\n",
       "    <tr>\n",
       "      <th>14</th>\n",
       "      <td>33.287671</td>\n",
       "      <td>15</td>\n",
       "      <td>3</td>\n",
       "      <td>64.721969</td>\n",
       "      <td>0.336669</td>\n",
       "      <td>86.96</td>\n",
       "      <td>6</td>\n",
       "      <td>17572.925484</td>\n",
       "      <td>1</td>\n",
       "      <td>0.004316</td>\n",
       "    </tr>\n",
       "    <tr>\n",
       "      <th>17</th>\n",
       "      <td>3.287671</td>\n",
       "      <td>21</td>\n",
       "      <td>5</td>\n",
       "      <td>66.362808</td>\n",
       "      <td>0.421775</td>\n",
       "      <td>80.86</td>\n",
       "      <td>3</td>\n",
       "      <td>40209.186341</td>\n",
       "      <td>2</td>\n",
       "      <td>0.199990</td>\n",
       "    </tr>\n",
       "    <tr>\n",
       "      <th>21</th>\n",
       "      <td>10.867580</td>\n",
       "      <td>18</td>\n",
       "      <td>2</td>\n",
       "      <td>56.107566</td>\n",
       "      <td>0.313228</td>\n",
       "      <td>79.22</td>\n",
       "      <td>2</td>\n",
       "      <td>35495.525408</td>\n",
       "      <td>2</td>\n",
       "      <td>0.483696</td>\n",
       "    </tr>\n",
       "  </tbody>\n",
       "</table>\n",
       "</div>"
      ],
      "text/plain": [
       "             Safety_Score  Days_Since_Inspection  Total_Safety_Complaints  \\\n",
       "Accident_ID                                                                 \n",
       "1               19.497717                     16                        6   \n",
       "10              58.173516                     15                        3   \n",
       "14              33.287671                     15                        3   \n",
       "17               3.287671                     21                        5   \n",
       "21              10.867580                     18                        2   \n",
       "\n",
       "             Control_Metric  Turbulence_In_gforces  Cabin_Temperature  \\\n",
       "Accident_ID                                                             \n",
       "1                 72.151322               0.388959              78.32   \n",
       "10                64.585232               0.250841              78.60   \n",
       "14                64.721969               0.336669              86.96   \n",
       "17                66.362808               0.421775              80.86   \n",
       "21                56.107566               0.313228              79.22   \n",
       "\n",
       "             Accident_Type_Code  Max_Elevation  Violations  \\\n",
       "Accident_ID                                                  \n",
       "1                             4   37949.724386           2   \n",
       "10                            7   30194.805567           2   \n",
       "14                            6   17572.925484           1   \n",
       "17                            3   40209.186341           2   \n",
       "21                            2   35495.525408           2   \n",
       "\n",
       "             Adverse_Weather_Metric  \n",
       "Accident_ID                          \n",
       "1                          0.069692  \n",
       "10                         0.002777  \n",
       "14                         0.004316  \n",
       "17                         0.199990  \n",
       "21                         0.483696  "
      ]
     },
     "execution_count": 3,
     "metadata": {},
     "output_type": "execute_result"
    }
   ],
   "source": [
    "test_df = pd.read_csv('test.csv', index_col=\"Accident_ID\")\n",
    "print('Shape of test dataset = {}'.format(test_df.shape))\n",
    "test_df.head()"
   ]
  },
  {
   "cell_type": "markdown",
   "metadata": {},
   "source": [
    "## Exploratory Data Analysis"
   ]
  },
  {
   "cell_type": "markdown",
   "metadata": {},
   "source": [
    "### Checking missing values"
   ]
  },
  {
   "cell_type": "code",
   "execution_count": 4,
   "metadata": {},
   "outputs": [
    {
     "name": "stdout",
     "output_type": "stream",
     "text": [
      "<class 'pandas.core.frame.DataFrame'>\n",
      "Int64Index: 10000 entries, 7570 to 9387\n",
      "Data columns (total 11 columns):\n",
      "Severity                   10000 non-null object\n",
      "Safety_Score               10000 non-null float64\n",
      "Days_Since_Inspection      10000 non-null int64\n",
      "Total_Safety_Complaints    10000 non-null int64\n",
      "Control_Metric             10000 non-null float64\n",
      "Turbulence_In_gforces      10000 non-null float64\n",
      "Cabin_Temperature          10000 non-null float64\n",
      "Accident_Type_Code         10000 non-null int64\n",
      "Max_Elevation              10000 non-null float64\n",
      "Violations                 10000 non-null int64\n",
      "Adverse_Weather_Metric     10000 non-null float64\n",
      "dtypes: float64(6), int64(4), object(1)\n",
      "memory usage: 937.5+ KB\n"
     ]
    }
   ],
   "source": [
    "train_df.info()"
   ]
  },
  {
   "cell_type": "code",
   "execution_count": 5,
   "metadata": {},
   "outputs": [
    {
     "name": "stdout",
     "output_type": "stream",
     "text": [
      "<class 'pandas.core.frame.DataFrame'>\n",
      "Int64Index: 2500 entries, 1 to 12493\n",
      "Data columns (total 10 columns):\n",
      "Safety_Score               2500 non-null float64\n",
      "Days_Since_Inspection      2500 non-null int64\n",
      "Total_Safety_Complaints    2500 non-null int64\n",
      "Control_Metric             2500 non-null float64\n",
      "Turbulence_In_gforces      2500 non-null float64\n",
      "Cabin_Temperature          2500 non-null float64\n",
      "Accident_Type_Code         2500 non-null int64\n",
      "Max_Elevation              2500 non-null float64\n",
      "Violations                 2500 non-null int64\n",
      "Adverse_Weather_Metric     2500 non-null float64\n",
      "dtypes: float64(6), int64(4)\n",
      "memory usage: 214.8 KB\n"
     ]
    }
   ],
   "source": [
    "test_df.info()"
   ]
  },
  {
   "cell_type": "markdown",
   "metadata": {},
   "source": [
    "As we can see there are no null entries in the train and test data."
   ]
  },
  {
   "cell_type": "markdown",
   "metadata": {},
   "source": [
    "### Checking target column"
   ]
  },
  {
   "cell_type": "code",
   "execution_count": 6,
   "metadata": {},
   "outputs": [
    {
     "name": "stdout",
     "output_type": "stream",
     "text": [
      "All possible target outcomes:\n"
     ]
    },
    {
     "data": {
      "text/plain": [
       "['Minor_Damage_And_Injuries',\n",
       " 'Significant_Damage_And_Fatalities',\n",
       " 'Significant_Damage_And_Serious_Injuries',\n",
       " 'Highly_Fatal_And_Damaging']"
      ]
     },
     "execution_count": 6,
     "metadata": {},
     "output_type": "execute_result"
    }
   ],
   "source": [
    "print(\"All possible target outcomes:\")\n",
    "train_df[\"Severity\"].unique().tolist()"
   ]
  },
  {
   "cell_type": "code",
   "execution_count": 7,
   "metadata": {},
   "outputs": [
    {
     "data": {
      "text/plain": [
       "<matplotlib.axes._subplots.AxesSubplot at 0x7ff51f28fd68>"
      ]
     },
     "execution_count": 7,
     "metadata": {},
     "output_type": "execute_result"
    },
    {
     "data": {
      "image/png": "[encoded data removed]",
      "text/plain": [
       "<Figure size 432x288 with 1 Axes>"
      ]
     },
     "metadata": {
      "needs_background": "light"
     },
     "output_type": "display_data"
    }
   ],
   "source": [
    "plt.title(\"Frequency of every accident outcome\")\n",
    "plt.xticks(rotation=15)\n",
    "sns.countplot(x=train_df[\"Severity\"], order=['Minor_Damage_And_Injuries',\n",
    "                                             'Significant_Damage_And_Serious_Injuries',                                             \n",
    "                                             'Significant_Damage_And_Fatalities',\n",
    "                                             'Highly_Fatal_And_Damaging'])"
   ]
  },
  {
   "cell_type": "markdown",
   "metadata": {},
   "source": [
    "As we can see, resulting columns data is unbalanced. So we should use **F1 Score** as our metric."
   ]
  },
  {
   "cell_type": "markdown",
   "metadata": {},
   "source": [
    "\\begin{equation}\n",
    "    \\label{simple_equation}\n",
    "    F_{1} Score = 2 * \\frac{Precision * Recall}{Precision + Recall}\n",
    "\\end{equation}"
   ]
  },
  {
   "cell_type": "markdown",
   "metadata": {},
   "source": [
    "### Reviewing summary statistics"
   ]
  },
  {
   "cell_type": "code",
   "execution_count": 8,
   "metadata": {},
   "outputs": [
    {
     "data": {
      "text/html": [
       "<div>\n",
       "<style scoped>\n",
       "    .dataframe tbody tr th:only-of-type {\n",
       "        vertical-align: middle;\n",
       "    }\n",
       "\n",
       "    .dataframe tbody tr th {\n",
       "        vertical-align: top;\n",
       "    }\n",
       "\n",
       "    .dataframe thead th {\n",
       "        text-align: right;\n",
       "    }\n",
       "</style>\n",
       "<table border=\"1\" class=\"dataframe\">\n",
       "  <thead>\n",
       "    <tr style=\"text-align: right;\">\n",
       "      <th></th>\n",
       "      <th>count</th>\n",
       "      <th>mean</th>\n",
       "      <th>std</th>\n",
       "      <th>min</th>\n",
       "      <th>25%</th>\n",
       "      <th>50%</th>\n",
       "      <th>75%</th>\n",
       "      <th>max</th>\n",
       "    </tr>\n",
       "  </thead>\n",
       "  <tbody>\n",
       "    <tr>\n",
       "      <th>Safety_Score</th>\n",
       "      <td>10000.0</td>\n",
       "      <td>41.876406</td>\n",
       "      <td>16.138072</td>\n",
       "      <td>0.000000</td>\n",
       "      <td>30.593607</td>\n",
       "      <td>41.278539</td>\n",
       "      <td>52.511416</td>\n",
       "      <td>100.000000</td>\n",
       "    </tr>\n",
       "    <tr>\n",
       "      <th>Days_Since_Inspection</th>\n",
       "      <td>10000.0</td>\n",
       "      <td>12.931100</td>\n",
       "      <td>3.539803</td>\n",
       "      <td>1.000000</td>\n",
       "      <td>11.000000</td>\n",
       "      <td>13.000000</td>\n",
       "      <td>15.000000</td>\n",
       "      <td>23.000000</td>\n",
       "    </tr>\n",
       "    <tr>\n",
       "      <th>Total_Safety_Complaints</th>\n",
       "      <td>10000.0</td>\n",
       "      <td>6.564300</td>\n",
       "      <td>6.971982</td>\n",
       "      <td>0.000000</td>\n",
       "      <td>2.000000</td>\n",
       "      <td>4.000000</td>\n",
       "      <td>9.000000</td>\n",
       "      <td>54.000000</td>\n",
       "    </tr>\n",
       "    <tr>\n",
       "      <th>Control_Metric</th>\n",
       "      <td>10000.0</td>\n",
       "      <td>65.145324</td>\n",
       "      <td>11.882934</td>\n",
       "      <td>0.000000</td>\n",
       "      <td>56.927985</td>\n",
       "      <td>65.587967</td>\n",
       "      <td>73.336372</td>\n",
       "      <td>100.000000</td>\n",
       "    </tr>\n",
       "    <tr>\n",
       "      <th>Turbulence_In_gforces</th>\n",
       "      <td>10000.0</td>\n",
       "      <td>0.381495</td>\n",
       "      <td>0.121301</td>\n",
       "      <td>0.134000</td>\n",
       "      <td>0.293665</td>\n",
       "      <td>0.365879</td>\n",
       "      <td>0.451346</td>\n",
       "      <td>0.882648</td>\n",
       "    </tr>\n",
       "    <tr>\n",
       "      <th>Cabin_Temperature</th>\n",
       "      <td>10000.0</td>\n",
       "      <td>79.969331</td>\n",
       "      <td>2.759739</td>\n",
       "      <td>74.740000</td>\n",
       "      <td>77.960000</td>\n",
       "      <td>79.540000</td>\n",
       "      <td>81.560000</td>\n",
       "      <td>97.510000</td>\n",
       "    </tr>\n",
       "    <tr>\n",
       "      <th>Accident_Type_Code</th>\n",
       "      <td>10000.0</td>\n",
       "      <td>3.814900</td>\n",
       "      <td>1.902577</td>\n",
       "      <td>1.000000</td>\n",
       "      <td>2.000000</td>\n",
       "      <td>4.000000</td>\n",
       "      <td>5.000000</td>\n",
       "      <td>7.000000</td>\n",
       "    </tr>\n",
       "    <tr>\n",
       "      <th>Max_Elevation</th>\n",
       "      <td>10000.0</td>\n",
       "      <td>32001.803282</td>\n",
       "      <td>9431.995196</td>\n",
       "      <td>831.695553</td>\n",
       "      <td>25757.636908</td>\n",
       "      <td>32060.336419</td>\n",
       "      <td>38380.641513</td>\n",
       "      <td>64297.651218</td>\n",
       "    </tr>\n",
       "    <tr>\n",
       "      <th>Violations</th>\n",
       "      <td>10000.0</td>\n",
       "      <td>2.012200</td>\n",
       "      <td>1.039980</td>\n",
       "      <td>0.000000</td>\n",
       "      <td>1.000000</td>\n",
       "      <td>2.000000</td>\n",
       "      <td>3.000000</td>\n",
       "      <td>5.000000</td>\n",
       "    </tr>\n",
       "    <tr>\n",
       "      <th>Adverse_Weather_Metric</th>\n",
       "      <td>10000.0</td>\n",
       "      <td>0.255635</td>\n",
       "      <td>0.381128</td>\n",
       "      <td>0.000316</td>\n",
       "      <td>0.012063</td>\n",
       "      <td>0.074467</td>\n",
       "      <td>0.354059</td>\n",
       "      <td>2.365378</td>\n",
       "    </tr>\n",
       "  </tbody>\n",
       "</table>\n",
       "</div>"
      ],
      "text/plain": [
       "                           count          mean          std         min  \\\n",
       "Safety_Score             10000.0     41.876406    16.138072    0.000000   \n",
       "Days_Since_Inspection    10000.0     12.931100     3.539803    1.000000   \n",
       "Total_Safety_Complaints  10000.0      6.564300     6.971982    0.000000   \n",
       "Control_Metric           10000.0     65.145324    11.882934    0.000000   \n",
       "Turbulence_In_gforces    10000.0      0.381495     0.121301    0.134000   \n",
       "Cabin_Temperature        10000.0     79.969331     2.759739   74.740000   \n",
       "Accident_Type_Code       10000.0      3.814900     1.902577    1.000000   \n",
       "Max_Elevation            10000.0  32001.803282  9431.995196  831.695553   \n",
       "Violations               10000.0      2.012200     1.039980    0.000000   \n",
       "Adverse_Weather_Metric   10000.0      0.255635     0.381128    0.000316   \n",
       "\n",
       "                                  25%           50%           75%  \\\n",
       "Safety_Score                30.593607     41.278539     52.511416   \n",
       "Days_Since_Inspection       11.000000     13.000000     15.000000   \n",
       "Total_Safety_Complaints      2.000000      4.000000      9.000000   \n",
       "Control_Metric              56.927985     65.587967     73.336372   \n",
       "Turbulence_In_gforces        0.293665      0.365879      0.451346   \n",
       "Cabin_Temperature           77.960000     79.540000     81.560000   \n",
       "Accident_Type_Code           2.000000      4.000000      5.000000   \n",
       "Max_Elevation            25757.636908  32060.336419  38380.641513   \n",
       "Violations                   1.000000      2.000000      3.000000   \n",
       "Adverse_Weather_Metric       0.012063      0.074467      0.354059   \n",
       "\n",
       "                                  max  \n",
       "Safety_Score               100.000000  \n",
       "Days_Since_Inspection       23.000000  \n",
       "Total_Safety_Complaints     54.000000  \n",
       "Control_Metric             100.000000  \n",
       "Turbulence_In_gforces        0.882648  \n",
       "Cabin_Temperature           97.510000  \n",
       "Accident_Type_Code           7.000000  \n",
       "Max_Elevation            64297.651218  \n",
       "Violations                   5.000000  \n",
       "Adverse_Weather_Metric       2.365378  "
      ]
     },
     "execution_count": 8,
     "metadata": {},
     "output_type": "execute_result"
    }
   ],
   "source": [
    "train_df.describe().T"
   ]
  },
  {
   "cell_type": "markdown",
   "metadata": {},
   "source": [
    "Accident_Type_Code is a categorical variable, not numerical."
   ]
  },
  {
   "cell_type": "code",
   "execution_count": 9,
   "metadata": {},
   "outputs": [
    {
     "data": {
      "image/png": "[encoded data removed]",
      "text/plain": [
       "<Figure size 720x720 with 12 Axes>"
      ]
     },
     "metadata": {
      "needs_background": "light"
     },
     "output_type": "display_data"
    }
   ],
   "source": [
    "hist = train_df.hist(figsize=(10, 10))"
   ]
  },
  {
   "cell_type": "markdown",
   "metadata": {},
   "source": [
    "### Reviewing Outliers and Anomalies"
   ]
  },
  {
   "cell_type": "code",
   "execution_count": 71,
   "metadata": {
    "scrolled": false
   },
   "outputs": [
    {
     "data": {
      "image/png": "[encoded data removed]",
      "text/plain": [
       "<Figure size 1008x720 with 10 Axes>"
      ]
     },
     "metadata": {
      "needs_background": "light"
     },
     "output_type": "display_data"
    }
   ],
   "source": [
    "fig, axes = plt.subplots(ncols=2, nrows=5, figsize=(14, 10))\n",
    "data = train_df.columns.tolist()\n",
    "data.remove(\"Severity\")\n",
    "\n",
    "for i, ax in enumerate(axes.flatten()):\n",
    "    ax.boxplot(x=train_df[data[i]], vert=False, sym=\"r.\")\n",
    "    ax.tick_params(labelleft=False)\n",
    "    ax.set_title(data[i])\n",
    "\n",
    "plt.tight_layout()"
   ]
  },
  {
   "cell_type": "markdown",
   "metadata": {},
   "source": [
    "As we can see, there are many columns with outliers and, maybe, anomalous values."
   ]
  },
  {
   "cell_type": "markdown",
   "metadata": {},
   "source": [
    "Let's take a closer look on every column.\n",
    "\n",
    "1) Safety_Score measure should be in the interval between 0% and 100%. There are no values that go above or beyond that interval, so there is no anomaly here.\n",
    "\n",
    "2) Days_Since_Inspection column represents non-negative values. So, all the outliers may represent the real data points. No anomaly.\n",
    "\n",
    "3) Total_Safety_Complaints column represents non-negative values too. We can see that all outliers are above 0, so there is no anomaly.\n",
    "\n",
    "4) Control_Metric should be in the interval between 0% and 100%. Every single data point is located inside of this interval, so there is no anomaly here.\n",
    "\n",
    "5) Turbulence_In_gforces in normal flights does not exceed 0.25g. Moderate turbulence is represented in 0.25-0.75g interval. And severe turbulance tops at 1g. We can see that there are no anomalous outliers in the dataset.\n",
    "\n",
    "6) Cabin_Temperature has a max value of ~97 fahrenheit, which is only ~36 celsius. Such a value is not an anomaly.\n",
    "\n",
    "7) Max_Elevation, of course, cannot be smaller than 0. Also, values above 60000 feet are very unlikely. But still no anomalies.\n",
    "\n",
    "8) Adverse_Weather_Metric is the column we know nothing about (no info in the description of the dataset). So, we can't check anomalousness of the data."
   ]
  },
  {
   "cell_type": "code",
   "execution_count": null,
   "metadata": {},
   "outputs": [],
   "source": []
  }
 ],
 "metadata": {
  "kernelspec": {
   "display_name": "Python 3",
   "language": "python",
   "name": "python3"
  },
  "language_info": {
   "codemirror_mode": {
    "name": "ipython",
    "version": 3
   },
   "file_extension": ".py",
   "mimetype": "text/x-python",
   "name": "python",
   "nbconvert_exporter": "python",
   "pygments_lexer": "ipython3",
   "version": "3.7.3"
  }
 },
 "nbformat": 4,
 "nbformat_minor": 2
}
